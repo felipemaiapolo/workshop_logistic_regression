{
  "nbformat": 4,
  "nbformat_minor": 0,
  "metadata": {
    "colab": {
      "name": "Introdução à Classificação.ipynb",
      "provenance": [],
      "collapsed_sections": []
    },
    "kernelspec": {
      "name": "python3",
      "display_name": "Python 3"
    }
  },
  "cells": [
    {
      "cell_type": "markdown",
      "metadata": {
        "id": "mO2rS7J6T6XD"
      },
      "source": [
        "# Introdução à classificação com regressão logística\n",
        "\n",
        "\\\\\n",
        "\n",
        "**Autor**: Felipe Maia Polo  \n",
        "\n",
        "**Bio**: Bacharel em ciências econômicas pela FEARP/USP e mestrando em estatística pelo IME/USP.  É um dos fundadores do Neuron/DSAI e atualmente atua como consultor em ciência de dados e Research Assistant no Advanced Institute of Artificial Intelligence (AI2). Tem interesse pelas áreas de aprendizado de máquina probabilístico, inferência Bayesiana e métodos estatísticos para dados superdimensionados.\n",
        "\n",
        "**Linkedin**: https://www.linkedin.com/in/felipemaiapolo/\n",
        "\n",
        "**E-mail**: felipemaiapolo@gmail.com\n",
        "\n",
        "\\\\"
      ]
    },
    {
      "cell_type": "markdown",
      "metadata": {
        "id": "2y6w3EKxT-ne"
      },
      "source": [
        "# Introdução à Classificação em Machine Learning\n",
        "\n",
        "\n",
        "\n",
        "Abrindo pacotes que utilizaremos hoje:\n",
        "\n"
      ]
    },
    {
      "cell_type": "code",
      "metadata": {
        "id": "UA3Hi_zpTj3F"
      },
      "source": [
        "import numpy as np\n",
        "import random\n",
        "\n",
        "from sklearn.model_selection import train_test_split\n",
        "from sklearn import metrics\n",
        "from sklearn.metrics import confusion_matrix, plot_confusion_matrix, classification_report, log_loss, confusion_matrix\n",
        "from sklearn.linear_model import LogisticRegression\n",
        "from sklearn.model_selection import GridSearchCV\n",
        "from sklearn.preprocessing import StandardScaler\n",
        "from sklearn.datasets import load_breast_cancer\n",
        "from sklearn.pipeline import Pipeline\n",
        "\n",
        "import matplotlib\n",
        "import matplotlib.cm as cm\n",
        "import matplotlib.mlab as mlab\n",
        "import matplotlib.pyplot as plt\n",
        "import seaborn as sns\n",
        "\n",
        "from IPython.display import Image\n",
        "from IPython.core.display import HTML "
      ],
      "execution_count": 1,
      "outputs": []
    },
    {
      "cell_type": "markdown",
      "metadata": {
        "id": "LH1_iLEpUelG"
      },
      "source": [
        "## O modelo de Regressão Logística\n",
        "\n",
        "Vamos observer a função Sigmoid:"
      ]
    },
    {
      "cell_type": "code",
      "metadata": {
        "id": "-CMo3RFDTlhp",
        "colab": {
          "base_uri": "https://localhost:8080/",
          "height": 279
        },
        "outputId": "420c5359-e07b-4ae6-d118-91c5f66068e4"
      },
      "source": [
        "def sigmoid(z): return 1/(1+np.exp(-z))\n",
        "\n",
        "x = np.arange(-10, 10, 0.1)\n",
        "plt.plot(x, sigmoid(x), 'g', lw=3)\n",
        "plt.xlabel('z')\n",
        "plt.ylabel('Sigmoid(z)')\n",
        "\n",
        "plt.show()"
      ],
      "execution_count": 2,
      "outputs": [
        {
          "output_type": "display_data",
          "data": {
            "image/png": "[encoded data removed]",
            "text/plain": [
              "<Figure size 432x288 with 1 Axes>"
            ]
          },
          "metadata": {
            "tags": [],
            "needs_background": "light"
          }
        }
      ]
    },
    {
      "cell_type": "markdown",
      "metadata": {
        "id": "RY18IfOvUiZu"
      },
      "source": [
        "### Exemplo 1\n",
        "\n",
        "Gerando dados:"
      ]
    },
    {
      "cell_type": "code",
      "metadata": {
        "id": "7Vhw9pYPUgTX",
        "colab": {
          "base_uri": "https://localhost:8080/"
        },
        "outputId": "ce4eb0d5-5b15-4f94-f102-2fba9736b11c"
      },
      "source": [
        "random.seed(0)\n",
        "\n",
        "n=500\n",
        "\n",
        "mean_0 = 1\n",
        "mean_1 = 4\n",
        "scale = 1\n",
        "\n",
        "X = np.hstack((np.random.normal(mean_0, scale, n), np.random.normal(mean_1, scale, n)))\n",
        "y = np.hstack((np.zeros(n), np.ones(n)))\n",
        "\n",
        "print(np.shape(X), np.shape(y))"
      ],
      "execution_count": 3,
      "outputs": [
        {
          "output_type": "stream",
          "text": [
            "(1000,) (1000,)\n"
          ],
          "name": "stdout"
        }
      ]
    },
    {
      "cell_type": "markdown",
      "metadata": {
        "id": "jqZzHC1oUmYs"
      },
      "source": [
        "Vamos dividir os dados nos conjuntos de treino e de teste:\n",
        "\n",
        "**Atenção: toda a modelagem é feita no conjunto de treino e o conjunto de teste só é utilizado para a avaliação final do modelo!!!**"
      ]
    },
    {
      "cell_type": "code",
      "metadata": {
        "id": "-XeehMpSUkIr"
      },
      "source": [
        "X_train, X_test, y_train, y_test = train_test_split(X, y, test_size=0.2, stratify=y, random_state=0)"
      ],
      "execution_count": 4,
      "outputs": []
    },
    {
      "cell_type": "markdown",
      "metadata": {
        "id": "-HWfFgU6UrAC"
      },
      "source": [
        "Neste exemplo só temos uma variável como atributo e nosso rótulo é binário. Vamos visualizar os dados de treino:"
      ]
    },
    {
      "cell_type": "code",
      "metadata": {
        "id": "9MWVa5NfUoWu",
        "colab": {
          "base_uri": "https://localhost:8080/",
          "height": 279
        },
        "outputId": "97563930-9c5f-499a-9e95-39d4a8eb18f0"
      },
      "source": [
        "plt.scatter(X_train,y_train,c=y_train,cmap='bwr')\n",
        "\n",
        "plt.xlabel('X')\n",
        "plt.ylabel('Y')\n",
        "\n",
        "plt.show()"
      ],
      "execution_count": 5,
      "outputs": [
        {
          "output_type": "display_data",
          "data": {
            "image/png": "[encoded data removed]",
            "text/plain": [
              "<Figure size 432x288 with 1 Axes>"
            ]
          },
          "metadata": {
            "tags": [],
            "needs_background": "light"
          }
        }
      ]
    },
    {
      "cell_type": "markdown",
      "metadata": {
        "id": "eNaum8JVUv61"
      },
      "source": [
        "Neste problema nosso primeiro modelo para a probabilidade condicional do rótulo 1 é da seguinte cara:\n",
        "\n",
        "\\begin{align}\n",
        "  \\mathbb{P}(Y=1|X=x)=\\frac{1}{1+e^{-(w \\cdot x)}}=\\sigma(w \\cdot x)\n",
        "\\end{align}\n",
        "\n",
        "Dado isso, \"treinar\" o modelo ou o algoritmo se consiste no aprendizado dos melhores valores de $w$ para o nosso caso. Para isso definimos uma função de **ERRO** que deve ser minimizada. Neste caso a função é chamada de Log Loss. Vamos codar a função erro:"
      ]
    },
    {
      "cell_type": "code",
      "metadata": {
        "id": "0KSZLAJzUsro"
      },
      "source": [
        "def logloss(b,w,X=X_train,y=y_train):\n",
        "    out=0\n",
        "    for i in range(np.shape(X)[0]):\n",
        "        eps=10**-50\n",
        "        out += -(y[i]*np.log(sigmoid(b+w*X[i])+eps) + (1-y[i])*np.log(1-sigmoid(b+w*X[i])+eps))\n",
        "    return(out/y.shape[0])"
      ],
      "execution_count": 6,
      "outputs": []
    },
    {
      "cell_type": "markdown",
      "metadata": {
        "id": "b7R3uDimU1Dt"
      },
      "source": [
        "Agora vamos visualizar a função de erro assumindo $b=0$:"
      ]
    },
    {
      "cell_type": "code",
      "metadata": {
        "id": "zNe5xqNEUyvM",
        "colab": {
          "base_uri": "https://localhost:8080/",
          "height": 282
        },
        "outputId": "e49940aa-3acf-48b1-d8ff-3f2a80bd837a"
      },
      "source": [
        "w = np.linspace(-2, 5, 100)\n",
        "\n",
        "loss=[logloss(0,ww) for ww in w]\n",
        "\n",
        "plt.plot(w,loss, 'g', lw=3)\n",
        "plt.xlabel('w', fontsize=12)\n",
        "plt.ylabel('$\\hat{Erro}(w)$', fontsize=12)\n",
        "plt.show()"
      ],
      "execution_count": 7,
      "outputs": [
        {
          "output_type": "display_data",
          "data": {
            "image/png": "[encoded data removed]",
            "text/plain": [
              "<Figure size 432x288 with 1 Axes>"
            ]
          },
          "metadata": {
            "tags": [],
            "needs_background": "light"
          }
        }
      ]
    },
    {
      "cell_type": "markdown",
      "metadata": {
        "id": "D8vv7LxOU5Z9"
      },
      "source": [
        "Agora utilizaremos a biblioteca Scikit-Learn para fazer a máquina aprender o melhor valor para $w$:"
      ]
    },
    {
      "cell_type": "code",
      "metadata": {
        "id": "NVLzdOegU22c"
      },
      "source": [
        "#O pacote somente X como um array de 2 dimensões... vamos dar um reshape\n",
        "X_train=X_train.reshape((-1,1)) \n",
        "\n",
        "#Treinando modelo\n",
        "logreg = LogisticRegression(penalty='none', solver='newton-cg', fit_intercept=False)\n",
        "logreg = logreg.fit(X_train, y_train)"
      ],
      "execution_count": 8,
      "outputs": []
    },
    {
      "cell_type": "code",
      "metadata": {
        "id": "umPC0BMWU-PF",
        "colab": {
          "base_uri": "https://localhost:8080/"
        },
        "outputId": "c5861896-2e54-4ea9-978e-2657a79c2391"
      },
      "source": [
        "w=logreg.coef_[0][0]\n",
        "\n",
        "w, logloss(0,w)"
      ],
      "execution_count": 9,
      "outputs": [
        {
          "output_type": "execute_result",
          "data": {
            "text/plain": [
              "(0.4116582871890587, 0.5470299001730805)"
            ]
          },
          "metadata": {
            "tags": []
          },
          "execution_count": 9
        }
      ]
    },
    {
      "cell_type": "markdown",
      "metadata": {
        "id": "aC-elP_tU8QD"
      },
      "source": [
        "Agora vamos plotar nosso modelo aprendido nos dados de treino:"
      ]
    },
    {
      "cell_type": "code",
      "metadata": {
        "id": "Rtht8BuQU7X2",
        "colab": {
          "base_uri": "https://localhost:8080/",
          "height": 280
        },
        "outputId": "de7d8e40-da27-4be2-9b9f-f138be927833"
      },
      "source": [
        "x = np.arange(-5, 7, 0.1)\n",
        "plt.plot(x, sigmoid(w*x), 'g', lw=3)\n",
        "\n",
        "plt.scatter(X_train,y_train,c=y_train,cmap='bwr')\n",
        "plt.xlim((-5,7))\n",
        "plt.xlabel('X_train')\n",
        "plt.ylabel('Y_train  &  P(Y=1|X=x)')\n",
        "\n",
        "plt.show()"
      ],
      "execution_count": 10,
      "outputs": [
        {
          "output_type": "display_data",
          "data": {
            "image/png": "[encoded data removed]",
            "text/plain": [
              "<Figure size 432x288 with 1 Axes>"
            ]
          },
          "metadata": {
            "tags": [],
            "needs_background": "light"
          }
        }
      ]
    },
    {
      "cell_type": "markdown",
      "metadata": {
        "id": "0_N0UAAXVSml"
      },
      "source": [
        "Vamos plotar nosso modelo contra os dados de teste"
      ]
    },
    {
      "cell_type": "code",
      "metadata": {
        "id": "yC4cZTNrVC-k",
        "colab": {
          "base_uri": "https://localhost:8080/",
          "height": 280
        },
        "outputId": "eb36626f-348b-422b-e325-f6ef8354c275"
      },
      "source": [
        "x = np.arange(-5, 7, 0.1)\n",
        "plt.plot(x, sigmoid(w*x), 'g', lw=3)\n",
        "\n",
        "plt.scatter(X_test,y_test,c=y_test,cmap='bwr')\n",
        "plt.xlim((-5,7))\n",
        "plt.xlabel('X_test')\n",
        "plt.ylabel('Y_test  &  P(Y=1|X=x)')\n",
        "\n",
        "plt.show()"
      ],
      "execution_count": 11,
      "outputs": [
        {
          "output_type": "display_data",
          "data": {
            "image/png": "[encoded data removed]",
            "text/plain": [
              "<Figure size 432x288 with 1 Axes>"
            ]
          },
          "metadata": {
            "tags": [],
            "needs_background": "light"
          }
        }
      ]
    },
    {
      "cell_type": "markdown",
      "metadata": {
        "id": "3VgVZ-RfVVwr"
      },
      "source": [
        "Avaliando função de Erro no conjunto de teste para o valor ótimo de $w$:"
      ]
    },
    {
      "cell_type": "code",
      "metadata": {
        "id": "wbs_HGClVUGM",
        "colab": {
          "base_uri": "https://localhost:8080/"
        },
        "outputId": "4c00bcd0-66ff-44bb-ec95-445d004dfcfe"
      },
      "source": [
        "logloss(0,w,X=X_test,y=y_test)"
      ],
      "execution_count": 12,
      "outputs": [
        {
          "output_type": "execute_result",
          "data": {
            "text/plain": [
              "0.561831083425574"
            ]
          },
          "metadata": {
            "tags": []
          },
          "execution_count": 12
        }
      ]
    },
    {
      "cell_type": "markdown",
      "metadata": {
        "id": "OKP7TqVQVaaE"
      },
      "source": [
        "Neste problema nosso modelo para a probabilidade condicional do rótulo 1 é da seguinte cara:\n",
        "\n",
        "\\begin{align}\n",
        "  \\mathbb{P}(Y=1|X=x)=\\frac{1}{1+e^{-(b+w \\cdot x)}}=\\sigma(b+w \\cdot x)\n",
        "\\end{align}\n",
        "\n",
        "Dado isso, \"treinar\" o modelo ou o algoritmo se consiste no aprendizado dos melhores valores de $b$ e de $w$ para o nosso caso."
      ]
    },
    {
      "cell_type": "markdown",
      "metadata": {
        "id": "RvmfGjvEVdo5"
      },
      "source": [
        "Vamos visualizar as curvas de nível da função Erro:"
      ]
    },
    {
      "cell_type": "code",
      "metadata": {
        "id": "6tM6J1K5VXuW",
        "colab": {
          "base_uri": "https://localhost:8080/",
          "height": 304
        },
        "outputId": "f9a92adf-a0c4-44d7-dd2f-05d0248e1fc0"
      },
      "source": [
        "delta = 0.4\n",
        "\n",
        "m1 = np.arange(-10, 2, delta)\n",
        "m2 = np.arange(-3, 9, delta)\n",
        "M1, M2 = np.meshgrid(m1, m2)\n",
        "\n",
        "Z=np.zeros(np.shape(M1))\n",
        "\n",
        "for i in range(np.shape(m1)[0]):\n",
        "    for j in range(np.shape(m2)[0]):\n",
        "        Z[i,j] = logloss(M1[i,j], M2[i,j])\n",
        "\n",
        "plt.figure()\n",
        "CS = plt.contour(M1, M2, Z)\n",
        "plt.clabel(CS, inline=1, fontsize=10)\n",
        "plt.xlabel('b', fontsize=12)\n",
        "plt.ylabel('w', fontsize=12)\n",
        "plt.title('$\\hat{Erro}(b,w)$', fontsize=12) \n",
        "plt.show()"
      ],
      "execution_count": 13,
      "outputs": [
        {
          "output_type": "display_data",
          "data": {
            "image/png": "[encoded data removed]",
            "text/plain": [
              "<Figure size 432x288 with 1 Axes>"
            ]
          },
          "metadata": {
            "tags": [],
            "needs_background": "light"
          }
        }
      ]
    },
    {
      "cell_type": "markdown",
      "metadata": {
        "id": "JWy7NHNdVhlo"
      },
      "source": [
        "Agora utilizaremos a biblioteca Scikit-Learn para fazer a máquina aprender os melhores valores para $b$ e $w$:"
      ]
    },
    {
      "cell_type": "code",
      "metadata": {
        "id": "6zxU-Ff8VfUp"
      },
      "source": [
        "#O pacote somente X como um array de 2 dimensões... vamos dar um reshape\n",
        "X_train=X_train.reshape((-1,1)) \n",
        "\n",
        "#Treinando modelo\n",
        "logreg = LogisticRegression(penalty='none', solver='newton-cg')\n",
        "logreg = logreg.fit(X_train, y_train)"
      ],
      "execution_count": 14,
      "outputs": []
    },
    {
      "cell_type": "markdown",
      "metadata": {
        "id": "aT_Sz9hNVhPg"
      },
      "source": [
        "Recuperando os pesos aprendidos:"
      ]
    },
    {
      "cell_type": "code",
      "metadata": {
        "id": "F6czWxD5Vri3",
        "colab": {
          "base_uri": "https://localhost:8080/"
        },
        "outputId": "1c33ac5f-da75-4fdb-9153-054be2f5cfbc"
      },
      "source": [
        "b=logreg.intercept_[0]\n",
        "w=logreg.coef_[0][0]\n",
        "\n",
        "b, w, logloss(b,w)"
      ],
      "execution_count": 15,
      "outputs": [
        {
          "output_type": "execute_result",
          "data": {
            "text/plain": [
              "(-9.002212859451895, 3.507267935594739, 0.12994453865856995)"
            ]
          },
          "metadata": {
            "tags": []
          },
          "execution_count": 15
        }
      ]
    },
    {
      "cell_type": "markdown",
      "metadata": {
        "id": "RYMWL1GkV1N_"
      },
      "source": [
        "Agora vamos plotar nossa modelo aprendido nos dados de treino:"
      ]
    },
    {
      "cell_type": "code",
      "metadata": {
        "id": "h6U9Ui2OVtVD",
        "colab": {
          "base_uri": "https://localhost:8080/",
          "height": 280
        },
        "outputId": "828448cc-df75-4411-aae8-331b4bae3d2e"
      },
      "source": [
        "x = np.arange(-5, 7, 0.1)\n",
        "plt.plot(x, sigmoid(b+w*x), 'g', lw=3)\n",
        "\n",
        "plt.scatter(X_train,y_train,c=y_train,cmap='bwr')\n",
        "plt.xlim((-5,7))\n",
        "plt.xlabel('X_train')\n",
        "plt.ylabel('Y_train  &  P(Y=1|X=x)')\n",
        "\n",
        "plt.show()"
      ],
      "execution_count": 16,
      "outputs": [
        {
          "output_type": "display_data",
          "data": {
            "image/png": "[encoded data removed]",
            "text/plain": [
              "<Figure size 432x288 with 1 Axes>"
            ]
          },
          "metadata": {
            "tags": [],
            "needs_background": "light"
          }
        }
      ]
    },
    {
      "cell_type": "markdown",
      "metadata": {
        "id": "ERFIlAZSWFT5"
      },
      "source": [
        "Vamos visualizar como nosso modelo generalizaria para o conjunto de teste:"
      ]
    },
    {
      "cell_type": "code",
      "metadata": {
        "id": "uxR6VXVKV5VU",
        "colab": {
          "base_uri": "https://localhost:8080/",
          "height": 280
        },
        "outputId": "6116c564-9d0a-47a1-92a4-56c5a5fae68a"
      },
      "source": [
        "x = np.arange(-5, 7, 0.1)\n",
        "plt.plot(x, sigmoid(b+w*x), 'g', lw=3)\n",
        "\n",
        "plt.scatter(X_test,y_test,c=y_test,cmap='bwr')\n",
        "plt.xlim((-5,7))\n",
        "plt.xlabel('X_test')\n",
        "plt.ylabel('Y_test  &  P(Y=1|X=x)')\n",
        "\n",
        "plt.show()"
      ],
      "execution_count": 17,
      "outputs": [
        {
          "output_type": "display_data",
          "data": {
            "image/png": "[encoded data removed]",
            "text/plain": [
              "<Figure size 432x288 with 1 Axes>"
            ]
          },
          "metadata": {
            "tags": [],
            "needs_background": "light"
          }
        }
      ]
    },
    {
      "cell_type": "markdown",
      "metadata": {
        "id": "TtTE0eFyWJiq"
      },
      "source": [
        "Avaliando função de Erro no conjunto de teste para os valores ótimos de $w$ e $b$:"
      ]
    },
    {
      "cell_type": "code",
      "metadata": {
        "id": "TLnk4uKnWHnT",
        "colab": {
          "base_uri": "https://localhost:8080/"
        },
        "outputId": "f4f7f3f4-26fc-4201-ff18-58558aa6fb97"
      },
      "source": [
        "logloss(b,w,X=X_test,y=y_test)"
      ],
      "execution_count": 18,
      "outputs": [
        {
          "output_type": "execute_result",
          "data": {
            "text/plain": [
              "0.11696700778597652"
            ]
          },
          "metadata": {
            "tags": []
          },
          "execution_count": 18
        }
      ]
    },
    {
      "cell_type": "markdown",
      "metadata": {
        "id": "aFvaEkuQWWnL"
      },
      "source": [
        "### Exemplo 2: Aplicações com dados reais"
      ]
    },
    {
      "cell_type": "markdown",
      "metadata": {
        "id": "CvelMwywWYmL"
      },
      "source": [
        "Carregando o dataset:"
      ]
    },
    {
      "cell_type": "code",
      "metadata": {
        "id": "_4aIP0htWK8q",
        "colab": {
          "base_uri": "https://localhost:8080/"
        },
        "outputId": "c1c24c37-0b63-44c6-f4db-a1989cb8d530"
      },
      "source": [
        "X, y = load_breast_cancer(return_X_y=True)\n",
        "X.shape"
      ],
      "execution_count": 19,
      "outputs": [
        {
          "output_type": "execute_result",
          "data": {
            "text/plain": [
              "(569, 30)"
            ]
          },
          "metadata": {
            "tags": []
          },
          "execution_count": 19
        }
      ]
    },
    {
      "cell_type": "markdown",
      "metadata": {
        "id": "WKLwyTIEWcPn"
      },
      "source": [
        "Dividindo treino e teste"
      ]
    },
    {
      "cell_type": "code",
      "metadata": {
        "id": "N1xXsFmtWaEd"
      },
      "source": [
        "X_train, X_test, y_train, y_test = train_test_split(X, y, test_size=.5, stratify=y, random_state=27)"
      ],
      "execution_count": 20,
      "outputs": []
    },
    {
      "cell_type": "markdown",
      "metadata": {
        "id": "Y-TmmySxWftS"
      },
      "source": [
        "Treinando regresão logística:"
      ]
    },
    {
      "cell_type": "code",
      "metadata": {
        "id": "Ew7nOMCVWd_p",
        "colab": {
          "base_uri": "https://localhost:8080/"
        },
        "outputId": "6c16a645-cb20-4e1b-9c90-ca8327405115"
      },
      "source": [
        "logreg = LogisticRegression(penalty='none', solver='newton-cg').fit(X_train, y_train)"
      ],
      "execution_count": 21,
      "outputs": [
        {
          "output_type": "stream",
          "text": [
            "/usr/local/lib/python3.6/dist-packages/sklearn/utils/optimize.py:212: ConvergenceWarning: newton-cg failed to converge. Increase the number of iterations.\n",
            "  \"number of iterations.\", ConvergenceWarning)\n"
          ],
          "name": "stderr"
        }
      ]
    },
    {
      "cell_type": "markdown",
      "metadata": {
        "id": "ITEwlFV9W98T"
      },
      "source": [
        "Veja que tivemos problemas de convergência. Para evitar esse tipo de problema, podemos recorrer à padronização das variáveis, afim de deixar tudo na mesma escala. Para padronizar fazemos a seguinte atualização:\n",
        "\n",
        "\\begin{align}\n",
        "    x_i \\leftarrow \\frac{x_i-\\text{avg}(x)}{\\text{std}(x)}\n",
        "\\end{align}\n",
        "\n",
        "A média e o dp são calculado no conjunto de treino. Padronizando:"
      ]
    },
    {
      "cell_type": "code",
      "metadata": {
        "id": "TTWUSUPTWhQ1"
      },
      "source": [
        "scaler = StandardScaler()\n",
        "X_train=scaler.fit_transform(X_train)"
      ],
      "execution_count": 22,
      "outputs": []
    },
    {
      "cell_type": "markdown",
      "metadata": {
        "id": "vCatcxuGXHKc"
      },
      "source": [
        "Treinando novamente"
      ]
    },
    {
      "cell_type": "code",
      "metadata": {
        "id": "Jjf7wObAXBc5"
      },
      "source": [
        "logreg = LogisticRegression(penalty='none', solver='newton-cg').fit(X_train, y_train)"
      ],
      "execution_count": 23,
      "outputs": []
    },
    {
      "cell_type": "markdown",
      "metadata": {
        "id": "d2yD_UsUviS5"
      },
      "source": [
        "Vendo pesos estimados"
      ]
    },
    {
      "cell_type": "code",
      "metadata": {
        "id": "Nt1WMD8gvpk6",
        "colab": {
          "base_uri": "https://localhost:8080/"
        },
        "outputId": "fb7910e1-cc39-466a-bbe2-2c67eb05bd7c"
      },
      "source": [
        "logreg.intercept_[0]"
      ],
      "execution_count": 24,
      "outputs": [
        {
          "output_type": "execute_result",
          "data": {
            "text/plain": [
              "3.927149305595902"
            ]
          },
          "metadata": {
            "tags": []
          },
          "execution_count": 24
        }
      ]
    },
    {
      "cell_type": "code",
      "metadata": {
        "id": "ktwmFntEvimK",
        "colab": {
          "base_uri": "https://localhost:8080/"
        },
        "outputId": "03e928d4-80ca-4d64-e2ba-4638ab3d7af0"
      },
      "source": [
        "logreg.coef_[0]"
      ],
      "execution_count": 25,
      "outputs": [
        {
          "output_type": "execute_result",
          "data": {
            "text/plain": [
              "array([  0.96740833,  -6.46780108,   2.22705071,  -1.77365438,\n",
              "         4.42830437,  12.99517129, -12.69411298, -15.98914508,\n",
              "        -1.71851571,   6.06473186, -13.31185709,   4.48022786,\n",
              "         3.79454978, -10.70340159,   5.55440992,   8.27948246,\n",
              "        -6.622762  ,   3.61202902,  -4.44438348,  11.50613653,\n",
              "       -16.29181446, -14.1266622 ,  -4.99972378, -16.27849931,\n",
              "        -3.23356537,  10.00394837, -14.48735182, -16.64793569,\n",
              "       -14.11988774,  -5.14136451])"
            ]
          },
          "metadata": {
            "tags": []
          },
          "execution_count": 25
        }
      ]
    },
    {
      "cell_type": "markdown",
      "metadata": {
        "id": "4KqIPxD6XMPu"
      },
      "source": [
        "Prevendo probabilidades para conjunto de teste:"
      ]
    },
    {
      "cell_type": "code",
      "metadata": {
        "id": "vjfZy_TxXIkO",
        "colab": {
          "base_uri": "https://localhost:8080/"
        },
        "outputId": "bab4c529-da26-4498-ad84-fc8cdb490438"
      },
      "source": [
        "X_test=scaler.transform(X_test)\n",
        "\n",
        "y_prob = logreg.predict_proba(X_test)\n",
        "\n",
        "y_prob.shape"
      ],
      "execution_count": 26,
      "outputs": [
        {
          "output_type": "execute_result",
          "data": {
            "text/plain": [
              "(285, 2)"
            ]
          },
          "metadata": {
            "tags": []
          },
          "execution_count": 26
        }
      ]
    },
    {
      "cell_type": "markdown",
      "metadata": {
        "id": "uPqvYocZXPgp"
      },
      "source": [
        "Na segunda coluna estão as probabilidades da classe 1:"
      ]
    },
    {
      "cell_type": "code",
      "metadata": {
        "id": "xpC6_CpdXNxp",
        "colab": {
          "base_uri": "https://localhost:8080/"
        },
        "outputId": "7cd47147-bd72-4561-9514-836680abc0a6"
      },
      "source": [
        "y_prob=y_prob[:,1]\n",
        "\n",
        "np.round(y_prob,5)[:20]"
      ],
      "execution_count": 27,
      "outputs": [
        {
          "output_type": "execute_result",
          "data": {
            "text/plain": [
              "array([0.05041, 0.     , 1.     , 1.     , 0.     , 1.     , 0.     ,\n",
              "       1.     , 0.     , 0.99994, 1.     , 0.     , 1.     , 1.     ,\n",
              "       0.     , 1.     , 0.     , 1.     , 0.     , 1.     ])"
            ]
          },
          "metadata": {
            "tags": []
          },
          "execution_count": 27
        }
      ]
    },
    {
      "cell_type": "markdown",
      "metadata": {
        "id": "F5iuOp7VXUlc"
      },
      "source": [
        "Calculando o erro no teste"
      ]
    },
    {
      "cell_type": "code",
      "metadata": {
        "id": "qO66qaq8XRbj",
        "colab": {
          "base_uri": "https://localhost:8080/"
        },
        "outputId": "3b409152-20ff-45f0-d02f-e1bcd3061c56"
      },
      "source": [
        "log_loss(y_test,y_prob)"
      ],
      "execution_count": 28,
      "outputs": [
        {
          "output_type": "execute_result",
          "data": {
            "text/plain": [
              "0.8703292239322529"
            ]
          },
          "metadata": {
            "tags": []
          },
          "execution_count": 28
        }
      ]
    },
    {
      "cell_type": "markdown",
      "metadata": {
        "id": "vacXlGfbXs3q"
      },
      "source": [
        "### Exemplo 3: Regularização"
      ]
    },
    {
      "cell_type": "markdown",
      "metadata": {
        "id": "ij0W_aOyXvFd"
      },
      "source": [
        "Arrumando as coisas :)"
      ]
    },
    {
      "cell_type": "code",
      "metadata": {
        "id": "XY-aNm3HXqCB"
      },
      "source": [
        "X, y = load_breast_cancer(return_X_y=True)\n",
        "X_train, X_test, y_train, y_test = train_test_split(X, y, test_size=.5, stratify=y, random_state=27)"
      ],
      "execution_count": 29,
      "outputs": []
    },
    {
      "cell_type": "markdown",
      "metadata": {
        "id": "N40NeKt6X0mI"
      },
      "source": [
        "Escolhendo melhor hiperparâmetro"
      ]
    },
    {
      "cell_type": "code",
      "metadata": {
        "id": "ZXfxXhumXw5k",
        "colab": {
          "base_uri": "https://localhost:8080/"
        },
        "outputId": "f05ceef3-6fe0-4e54-983a-fefa9e8c9ff8"
      },
      "source": [
        "pipe = Pipeline([('scaler', StandardScaler()), \n",
        "                 ('logreg', LogisticRegression(penalty='l1',solver='liblinear'))])\n",
        "parameters = {'logreg__C': np.linspace(10**-5,10,100)}\n",
        " \n",
        "gcv=GridSearchCV(pipe, parameters, cv=3, scoring='neg_log_loss', n_jobs=-1)\n",
        "gcv.fit(X_train, y_train)\n",
        "\n",
        "#Vendo o melhor valor e o escore associado\n",
        "c=gcv.best_params_['logreg__C']\n",
        "\n",
        "c, gcv.best_score_"
      ],
      "execution_count": 30,
      "outputs": [
        {
          "output_type": "execute_result",
          "data": {
            "text/plain": [
              "(4.7474799999999995, -0.04765542134838927)"
            ]
          },
          "metadata": {
            "tags": []
          },
          "execution_count": 30
        }
      ]
    },
    {
      "cell_type": "markdown",
      "metadata": {
        "id": "7IZ799xzX4l5"
      },
      "source": [
        "Treinando e predizendo"
      ]
    },
    {
      "cell_type": "code",
      "metadata": {
        "id": "kEmNLHNSX2ff",
        "colab": {
          "base_uri": "https://localhost:8080/"
        },
        "outputId": "3070d35a-2673-49a4-90b6-5ab80d33cb64"
      },
      "source": [
        "pipe = Pipeline([('scaler', StandardScaler()), \n",
        "                 ('logreg', LogisticRegression(penalty='l1', C=c, solver='liblinear'))])\n",
        "pipe.fit(X_train, y_train)"
      ],
      "execution_count": 31,
      "outputs": [
        {
          "output_type": "execute_result",
          "data": {
            "text/plain": [
              "Pipeline(memory=None,\n",
              "         steps=[('scaler',\n",
              "                 StandardScaler(copy=True, with_mean=True, with_std=True)),\n",
              "                ('logreg',\n",
              "                 LogisticRegression(C=4.7474799999999995, class_weight=None,\n",
              "                                    dual=False, fit_intercept=True,\n",
              "                                    intercept_scaling=1, l1_ratio=None,\n",
              "                                    max_iter=100, multi_class='auto',\n",
              "                                    n_jobs=None, penalty='l1',\n",
              "                                    random_state=None, solver='liblinear',\n",
              "                                    tol=0.0001, verbose=0, warm_start=False))],\n",
              "         verbose=False)"
            ]
          },
          "metadata": {
            "tags": []
          },
          "execution_count": 31
        }
      ]
    },
    {
      "cell_type": "markdown",
      "metadata": {
        "id": "L66vSOdwvbZ3"
      },
      "source": [
        "Vendo pesos estimados:"
      ]
    },
    {
      "cell_type": "code",
      "metadata": {
        "id": "zATnww6vuyPX",
        "colab": {
          "base_uri": "https://localhost:8080/"
        },
        "outputId": "12659e06-05f5-445a-8b59-454d9f8df99a"
      },
      "source": [
        "pipe['logreg'].intercept_[0]"
      ],
      "execution_count": 32,
      "outputs": [
        {
          "output_type": "execute_result",
          "data": {
            "text/plain": [
              "0.23960867471691646"
            ]
          },
          "metadata": {
            "tags": []
          },
          "execution_count": 32
        }
      ]
    },
    {
      "cell_type": "code",
      "metadata": {
        "id": "SxqAMsCUvPqa",
        "colab": {
          "base_uri": "https://localhost:8080/"
        },
        "outputId": "926cd792-7fc2-4e7c-f637-aaaeb57cc2fc"
      },
      "source": [
        "pipe['logreg'].coef_[0]"
      ],
      "execution_count": 33,
      "outputs": [
        {
          "output_type": "execute_result",
          "data": {
            "text/plain": [
              "array([ 0.        , -1.5599152 ,  0.        ,  0.        ,  0.        ,\n",
              "        1.86330701, -3.41433318,  0.        ,  0.        ,  0.09204479,\n",
              "       -2.21907176,  0.        ,  0.        ,  0.        ,  0.        ,\n",
              "        0.81532222,  0.        ,  0.        ,  0.        ,  1.76833835,\n",
              "       -2.48346314, -1.27479307,  0.        , -5.89545214,  0.        ,\n",
              "        0.1841538 , -1.11543489, -3.48315602, -2.10551108,  0.        ])"
            ]
          },
          "metadata": {
            "tags": []
          },
          "execution_count": 33
        }
      ]
    },
    {
      "cell_type": "code",
      "metadata": {
        "id": "dF2-T2qTxvrA",
        "colab": {
          "base_uri": "https://localhost:8080/"
        },
        "outputId": "edc66871-7c47-45f5-d7e5-a64909768443"
      },
      "source": [
        "np.mean(pipe['logreg'].coef_[0]!=0)"
      ],
      "execution_count": 34,
      "outputs": [
        {
          "output_type": "execute_result",
          "data": {
            "text/plain": [
              "0.4666666666666667"
            ]
          },
          "metadata": {
            "tags": []
          },
          "execution_count": 34
        }
      ]
    },
    {
      "cell_type": "markdown",
      "metadata": {
        "id": "w1umUvwmvYey"
      },
      "source": [
        "Predizendo"
      ]
    },
    {
      "cell_type": "code",
      "metadata": {
        "id": "5pKJNvJuvYAe"
      },
      "source": [
        "y_prob = pipe.predict_proba(X_test)\n",
        "y_prob = y_prob[:,1]"
      ],
      "execution_count": 35,
      "outputs": []
    },
    {
      "cell_type": "markdown",
      "metadata": {
        "id": "PAFY5f18X7jH"
      },
      "source": [
        "Verificando erro no teste"
      ]
    },
    {
      "cell_type": "code",
      "metadata": {
        "id": "o0AZlGICX6Df",
        "colab": {
          "base_uri": "https://localhost:8080/"
        },
        "outputId": "5b4de999-25bb-4e82-ccb7-20f8aba3c9a5"
      },
      "source": [
        "log_loss(y_test,y_prob)"
      ],
      "execution_count": 36,
      "outputs": [
        {
          "output_type": "execute_result",
          "data": {
            "text/plain": [
              "0.1556099792607026"
            ]
          },
          "metadata": {
            "tags": []
          },
          "execution_count": 36
        }
      ]
    },
    {
      "cell_type": "markdown",
      "metadata": {
        "id": "omV9gTFNYCgy"
      },
      "source": [
        "## Classificação e Métricas de Avaliação"
      ]
    },
    {
      "cell_type": "markdown",
      "metadata": {
        "id": "EmFtcOJQYEyV"
      },
      "source": [
        "### Exemplo 4"
      ]
    },
    {
      "cell_type": "markdown",
      "metadata": {
        "id": "zNLl7iV5gSKi"
      },
      "source": [
        "Gerando dados quando temos 2 atributos:"
      ]
    },
    {
      "cell_type": "code",
      "metadata": {
        "id": "svoy8FkOftqf",
        "colab": {
          "base_uri": "https://localhost:8080/"
        },
        "outputId": "91f97503-e3ae-4f45-c850-0d2d698efd82"
      },
      "source": [
        "n=500\n",
        "\n",
        "mean_0 = [0, 0]\n",
        "cov_0 = [[1, 0], [0, 1]]\n",
        "\n",
        "mean_1 = [2, 2]\n",
        "cov_1 = [[1, 0], [0, 1]]\n",
        "\n",
        "X = np.vstack((np.random.multivariate_normal(mean_0, cov_0, n), np.random.multivariate_normal(mean_1, cov_1, n)))\n",
        "y = np.hstack((np.zeros(n), np.ones(n)))\n",
        "\n",
        "np.shape(X), np.shape(y)"
      ],
      "execution_count": 37,
      "outputs": [
        {
          "output_type": "execute_result",
          "data": {
            "text/plain": [
              "((1000, 2), (1000,))"
            ]
          },
          "metadata": {
            "tags": []
          },
          "execution_count": 37
        }
      ]
    },
    {
      "cell_type": "markdown",
      "metadata": {
        "id": "RL4y4EGWgWLb"
      },
      "source": [
        "Divindo conjuntos de treino e teste:"
      ]
    },
    {
      "cell_type": "code",
      "metadata": {
        "id": "0M_4CFIPfwGT"
      },
      "source": [
        "X_train, X_test, y_train, y_test = train_test_split(X, y, test_size=0.2, stratify=y, random_state=0)"
      ],
      "execution_count": 38,
      "outputs": []
    },
    {
      "cell_type": "markdown",
      "metadata": {
        "id": "kK-9gK8LgZfb"
      },
      "source": [
        "Visualizando dados de treino:"
      ]
    },
    {
      "cell_type": "code",
      "metadata": {
        "id": "0CrNV1U2fyeO",
        "colab": {
          "base_uri": "https://localhost:8080/",
          "height": 283
        },
        "outputId": "ce492dfe-206d-4c9c-f9ed-d27262749fd7"
      },
      "source": [
        "plt.scatter(X_train[:,0],X_train[:,1],c=y_train,cmap='bwr')\n",
        "\n",
        "plt.xlabel('x1')\n",
        "plt.ylabel('x2')\n",
        "plt.xlim((-3,5))\n",
        "plt.ylim((-3,5))\n",
        "plt.show()"
      ],
      "execution_count": 39,
      "outputs": [
        {
          "output_type": "display_data",
          "data": {
            "image/png": "[encoded data removed]",
            "text/plain": [
              "<Figure size 432x288 with 1 Axes>"
            ]
          },
          "metadata": {
            "tags": [],
            "needs_background": "light"
          }
        }
      ]
    },
    {
      "cell_type": "markdown",
      "metadata": {
        "id": "M8Q4i9jAgcp8"
      },
      "source": [
        "Neste problema nosso modelo para a probabilidade condicional do rótulo 1 é da seguinte cara:\n",
        "\n",
        "\\begin{align}\n",
        "  \\mathbb{P}(Y=1|X_1=x_1,X_2=x_2)=\\frac{1}{1+e^{-(b+w_1 \\cdot x_1 +w_2 \\cdot x_2)}}=\\sigma(b+w_1 \\cdot x_1 +w_2 \\cdot x_2)\n",
        "\\end{align}\n",
        "\n",
        "\n",
        "Treinando modelo de regressão logística no conjunto de treinamento:"
      ]
    },
    {
      "cell_type": "code",
      "metadata": {
        "id": "ybaXocY0ft1I"
      },
      "source": [
        "logreg = LogisticRegression()\n",
        "logreg = logreg.fit(X_train, y_train)"
      ],
      "execution_count": 40,
      "outputs": []
    },
    {
      "cell_type": "markdown",
      "metadata": {
        "id": "8dnu3QCTgjOv"
      },
      "source": [
        "Recuperando pesos aprendidos:"
      ]
    },
    {
      "cell_type": "code",
      "metadata": {
        "id": "clV6t0IegIA0",
        "colab": {
          "base_uri": "https://localhost:8080/"
        },
        "outputId": "8c1cff13-daaf-4a3e-c596-14d1a9879bc7"
      },
      "source": [
        "b=logreg.intercept_[0]\n",
        "w1=logreg.coef_[0][0]\n",
        "w2=logreg.coef_[0][1]\n",
        "\n",
        "b, w1, w2"
      ],
      "execution_count": 41,
      "outputs": [
        {
          "output_type": "execute_result",
          "data": {
            "text/plain": [
              "(-3.707216764941215, 1.758708133014753, 2.1195928732025173)"
            ]
          },
          "metadata": {
            "tags": []
          },
          "execution_count": 41
        }
      ]
    },
    {
      "cell_type": "markdown",
      "metadata": {
        "id": "i9nzejNFgm9T"
      },
      "source": [
        "Visualizado o modelo aprendido juntamente com os dados de treino:"
      ]
    },
    {
      "cell_type": "code",
      "metadata": {
        "id": "83NlYqtpj9QN",
        "colab": {
          "base_uri": "https://localhost:8080/",
          "height": 298
        },
        "outputId": "a85b510b-b4bd-4c56-be8e-a4d054057fc3"
      },
      "source": [
        "delta = 0.01\n",
        "\n",
        "m1 = np.arange(-3, 5, delta)\n",
        "m2 = np.arange(-3, 5, delta)\n",
        "M1, M2 = np.meshgrid(m1, m2)\n",
        "\n",
        "Z=np.zeros(np.shape(M1))\n",
        "\n",
        "for i in range(np.shape(m1)[0]):\n",
        "    for j in range(np.shape(m2)[0]):\n",
        "        Z[i,j] = sigmoid(b+w1*M1[i,j]+w2*M2[i,j])\n",
        "\n",
        "plt.figure()\n",
        "CS = plt.contour(M1, M2, Z)\n",
        "plt.clabel(CS, inline=1, fontsize=10)\n",
        "plt.xlabel('x1', fontsize=12)\n",
        "plt.ylabel('x2', fontsize=12)\n",
        "plt.title('P(Y=1|X1=x2, X2=x2)', fontsize=12)\n",
        "plt.xlim((-3,5))\n",
        "plt.ylim((-3,5))\n",
        "plt.show()"
      ],
      "execution_count": 42,
      "outputs": [
        {
          "output_type": "display_data",
          "data": {
            "image/png": "[encoded data removed]",
            "text/plain": [
              "<Figure size 432x288 with 1 Axes>"
            ]
          },
          "metadata": {
            "tags": [],
            "needs_background": "light"
          }
        }
      ]
    },
    {
      "cell_type": "code",
      "metadata": {
        "id": "tKju0ZSCf6T5",
        "colab": {
          "base_uri": "https://localhost:8080/",
          "height": 298
        },
        "outputId": "97be0ee3-05fb-4730-f193-1e333abbf0f9"
      },
      "source": [
        "plt.figure()\n",
        "CS = plt.contour(M1, M2, Z)\n",
        "plt.scatter(X_train[:,0],X_train[:,1],c=y_train,cmap='bwr')\n",
        "plt.clabel(CS, inline=1, fontsize=10)\n",
        "plt.xlabel('x1', fontsize=12)\n",
        "plt.ylabel('x2', fontsize=12)\n",
        "plt.title('P(Y=1|X1=x2, X2=x2)', fontsize=12)\n",
        "plt.xlim((-3,5))\n",
        "plt.ylim((-3,5))\n",
        "plt.show()"
      ],
      "execution_count": 43,
      "outputs": [
        {
          "output_type": "display_data",
          "data": {
            "image/png": "[encoded data removed]",
            "text/plain": [
              "<Figure size 432x288 with 1 Axes>"
            ]
          },
          "metadata": {
            "tags": [],
            "needs_background": "light"
          }
        }
      ]
    },
    {
      "cell_type": "markdown",
      "metadata": {
        "id": "BJotga5JYIIQ"
      },
      "source": [
        "A partir das probabilidades preditas, vamos classificar as amostras como 0 ou 1:"
      ]
    },
    {
      "cell_type": "code",
      "metadata": {
        "id": "yqUv_-Cag0Ic"
      },
      "source": [
        "y_prob = logreg.predict_proba(X_test)\n",
        "y_prob = y_prob[:,1]"
      ],
      "execution_count": 44,
      "outputs": []
    },
    {
      "cell_type": "code",
      "metadata": {
        "id": "qCAnEv-TX86Z"
      },
      "source": [
        "cut=.1\n",
        "\n",
        "y_pred=1*(y_prob>cut)"
      ],
      "execution_count": 45,
      "outputs": []
    },
    {
      "cell_type": "code",
      "metadata": {
        "id": "D_T9UoycOTQ6",
        "colab": {
          "base_uri": "https://localhost:8080/"
        },
        "outputId": "2f3063b1-a460-4c3c-a4f7-efa929552540"
      },
      "source": [
        "y_pred[:10]"
      ],
      "execution_count": 46,
      "outputs": [
        {
          "output_type": "execute_result",
          "data": {
            "text/plain": [
              "array([0, 1, 0, 1, 1, 1, 0, 1, 1, 1])"
            ]
          },
          "metadata": {
            "tags": []
          },
          "execution_count": 46
        }
      ]
    },
    {
      "cell_type": "markdown",
      "metadata": {
        "id": "igI6groEg6Nh"
      },
      "source": [
        "Obs: Utilizar o ponto de corte igual a 1/2 é igual a utilizar o método \"predict\" da regressão logística:"
      ]
    },
    {
      "cell_type": "code",
      "metadata": {
        "id": "nlpeBYPlhkFm"
      },
      "source": [
        "y_pred2=logreg.predict(X_test)"
      ],
      "execution_count": 47,
      "outputs": []
    },
    {
      "cell_type": "markdown",
      "metadata": {
        "id": "-ldis5AMYLRJ"
      },
      "source": [
        "Podemos então checar a acurácia do modelo (% de acerto):"
      ]
    },
    {
      "cell_type": "code",
      "metadata": {
        "id": "W26mNrHvYJmT",
        "colab": {
          "base_uri": "https://localhost:8080/"
        },
        "outputId": "18b70e62-bb77-4db9-a30e-275ca81694f6"
      },
      "source": [
        "np.mean(y_test==y_pred)"
      ],
      "execution_count": 48,
      "outputs": [
        {
          "output_type": "execute_result",
          "data": {
            "text/plain": [
              "0.84"
            ]
          },
          "metadata": {
            "tags": []
          },
          "execution_count": 48
        }
      ]
    },
    {
      "cell_type": "markdown",
      "metadata": {
        "id": "umpo_9U8YOqB"
      },
      "source": [
        "A acurácia pode ser uma métrica relevante, mas não é a única e na prática é raro utilizarmos somente ela. \n",
        "\n",
        "A matriz de confusão nos traz mais informações relevantes:"
      ]
    },
    {
      "cell_type": "code",
      "metadata": {
        "id": "FWAR3fdlYNBW"
      },
      "source": [
        "cf_matrix=confusion_matrix(y_test, y_pred)"
      ],
      "execution_count": 49,
      "outputs": []
    },
    {
      "cell_type": "code",
      "metadata": {
        "id": "D-CfrLNuYQTS",
        "colab": {
          "base_uri": "https://localhost:8080/",
          "height": 279
        },
        "outputId": "801332bd-54e3-47ac-e5ed-2f6d6d849f3e"
      },
      "source": [
        "group_names = ['Verdadeiro Negativo (VN)','Falso Positivo (FP)','False Negativo (FN)','Verdadeiro Positivo (VP)']\n",
        "group_counts = ['{0:0.0f}'.format(value) for value in\n",
        "                cf_matrix.flatten()]\n",
        "group_percentages = ['{0:.2%}'.format(value) for value in\n",
        "                     cf_matrix.flatten()/np.sum(cf_matrix)]\n",
        "labels = [f'{v1}\\n{v2}\\n{v3}' for v1, v2, v3 in\n",
        "          zip(group_names,group_counts,group_percentages)]\n",
        "labels = np.asarray(labels).reshape(2,2)\n",
        "sns.heatmap(cf_matrix, annot=labels, fmt='', cmap='Blues')\n",
        "plt.xlabel(\"Rótulo Predito\")\n",
        "plt.ylabel(\"Rótulo Real\")\n",
        "plt.show()"
      ],
      "execution_count": 50,
      "outputs": [
        {
          "output_type": "display_data",
          "data": {
            "image/png": "[encoded data removed]",
            "text/plain": [
              "<Figure size 432x288 with 2 Axes>"
            ]
          },
          "metadata": {
            "tags": [],
            "needs_background": "light"
          }
        }
      ]
    },
    {
      "cell_type": "markdown",
      "metadata": {
        "id": "U9i6MHttYUpf"
      },
      "source": [
        "Na figura acima, por exemplo, VN é o número de exemplos negativos (ou 0) e que foram de fato classificados como negativos - por isso Verdadeiros Negativos! Já FN é o número de exemplos que são positivos mas que foram classificados erroneamente como negativos - por isso Falsos Negativos! Analogamente, também temos os FPs e os VPs. A Acurácia, então, poderia ser definida como:\n",
        "\n",
        "\\\\\n",
        "\n",
        "\\begin{align}\n",
        "  \\text{Acurácia}=\\frac{VN+VP}{VN+VP+FN+FP}\n",
        "\\end{align}\n",
        "\n",
        "\\\\\n",
        "\n",
        "A fórmula acima pega o número de casos em que acertamos a divide pelo número total de casos, que é algo que já havíamos comentado. Uma outra importante métrica é a Precisão que é definida pela seguinte fórmula:\n",
        "\n",
        "\\\\\n",
        "\n",
        "\\begin{equation}\n",
        "\\text{Precisão}=\\frac{VP}{VP+FP}\n",
        "\\end{equation}\n",
        "\n",
        "\\\\\n",
        "\n",
        "O que a fórmula da Precisão quer nos dizer? Ela nos dá o percentual de acertos quando predizemos a classe positiva (ou 1). Ou seja, se classificamos 100 indivíduos como positivos em nossa amostra, mas destes 100 só 80 são realmente positivos, nossa Precisão seria de $0,8=80\\%$. Uma outra importante métrica, que complementa bem a informação trazida pela Precisão, é o *Recall* (ou Sensitividade), que é dado pela seguinte fórmula:\n",
        "\n",
        "\\\\\n",
        "\n",
        "\\begin{equation}\n",
        "\\text{Recall}=\\frac{VP}{VP+FN}\n",
        "\\end{equation} \n",
        "\n",
        "\\\\\n",
        "\n",
        "O que a fórmula de *Recall* quer nos dizer? Ela nos dá o percentual de indivíduos da classe positiva que estão na nossa amostra e que conseguimos prever. Ou seja, se há 100 indivíduos positivos em nossa amostra, mas destes 100 só classificamos 70 como sendo positivos, nosso Recall seria de $0,7=70\\%$. É importante dizer que existem métricas análogas à Precisão e ao Recall para os exemplos negativos (e.g. o 'Recall' para os exemplos negativos é chamado de **Especificidade**). A última métrica que apresentaremos aqui é o Escore F1, que é a média harmônica entre Recall e Precisão:\n",
        "\n",
        "\\\\\n",
        "\n",
        "\\begin{equation}\n",
        "\\text{F1}=2 \\cdot \\frac{\\text{Recall} \\cdot \\text{Precisão}}{\\text{Recall} + \\text{Precisão}}\n",
        "\\end{equation} \n",
        "\n",
        "\\\\\n"
      ]
    },
    {
      "cell_type": "markdown",
      "metadata": {
        "id": "qUgI3LdfYXWi"
      },
      "source": [
        "Definido um ponto de corte, podemos avaliar todas as métricas aqui apresentadas de uma só vez:"
      ]
    },
    {
      "cell_type": "code",
      "metadata": {
        "id": "t-giWGVmYR6R",
        "colab": {
          "base_uri": "https://localhost:8080/"
        },
        "outputId": "7b0ebd75-0c0d-4776-952b-acfad12882a8"
      },
      "source": [
        "report=classification_report(y_test, y_pred)\n",
        "\n",
        "print(report)"
      ],
      "execution_count": 51,
      "outputs": [
        {
          "output_type": "stream",
          "text": [
            "              precision    recall  f1-score   support\n",
            "\n",
            "         0.0       0.99      0.69      0.81       100\n",
            "         1.0       0.76      0.99      0.86       100\n",
            "\n",
            "    accuracy                           0.84       200\n",
            "   macro avg       0.87      0.84      0.84       200\n",
            "weighted avg       0.87      0.84      0.84       200\n",
            "\n"
          ],
          "name": "stdout"
        }
      ]
    },
    {
      "cell_type": "markdown",
      "metadata": {
        "id": "WndjEYGYYa44"
      },
      "source": [
        "Na tabela acima temos um resumo bem legal de como nosso classificador performou no conjunto de teste. A coluna '**support**' nos dá o número de indivíduos na classe 0, classe 1 e total. As linha '**macro avg**' nos dá uma média simples das métricas Precisão, Recall e Escore F1 nas duas classes e a linha '**weighted avg**' nos dá a média ponderada das métricas Precisão, Recall e Escore F1 nas duas classes. É importante dizer que quando temos um base de dados desbalanceada, i.e. o número de exemplos positivos e negativos difere muito, mas mesmo assim queremos dar o mesmo peso para as duas classes na hora da avaliação, olhamos para as médias simples. "
      ]
    },
    {
      "cell_type": "code",
      "metadata": {
        "id": "yzkenitlYY_1"
      },
      "source": [
        ""
      ],
      "execution_count": 51,
      "outputs": []
    }
  ]
}